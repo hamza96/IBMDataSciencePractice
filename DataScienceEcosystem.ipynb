{
 "cells": [
  {
   "cell_type": "markdown",
   "id": "6a891377-2cba-4b19-b4f5-03971fd47b8e",
   "metadata": {},
   "source": [
    "# Data Science Tools and Ecosystem"
   ]
  },
  {
   "cell_type": "markdown",
   "id": "3cd982a6-9890-4e4f-9261-f45151d41aff",
   "metadata": {},
   "source": [
    "In this notebook, Data Science Tools and Ecosystem are summarized."
   ]
  },
  {
   "cell_type": "markdown",
   "id": "3b767573-f539-4aa4-9aab-43e0591a270d",
   "metadata": {},
   "source": [
    "**Objectives:**\n",
    "- List popular languages for Data Science\n",
    "- List commonly used libraries used by data scientists\n",
    "- List some data science tools\n",
    "- Examples of arithmetic operations in python"
   ]
  },
  {
   "cell_type": "markdown",
   "id": "3cb7139e-55b6-4581-8ecf-eade5ff182d3",
   "metadata": {},
   "source": [
    "Some of the popular languages that Data Scientists use are:\n",
    "1. Python\n",
    "2. R\n",
    "3. SQL"
   ]
  },
  {
   "cell_type": "markdown",
   "id": "0fe42072-bb4a-42be-8a2d-b21e24684ba8",
   "metadata": {},
   "source": [
    "Some of the commonly used libraries used by Data Scientists include:\n",
    "\n",
    "1. NumPy\n",
    "2. Matplotlib\n",
    "3. Pandas\n",
    "4. TensorFlow"
   ]
  },
  {
   "cell_type": "markdown",
   "id": "bb34b558-8fa0-4878-8c29-060f48c077ad",
   "metadata": {},
   "source": [
    "|Data Science Tools|\n",
    "|------------------|\n",
    "|JupyterLab|\n",
    "|RStudio|\n",
    "|VS Code|"
   ]
  },
  {
   "cell_type": "markdown",
   "id": "daa9ce94-0093-4f23-8750-b9d78f7d63fa",
   "metadata": {},
   "source": [
    "### Below are a few examples of evaluating arithmetic expressions in Python\n",
    "1. Addition  \n",
    "   - `3 + 5 = 8` \n",
    "2. Subtraction  \n",
    "   - `10 - 4 = 6`\n",
    "3. Multiplication\n",
    "   - `7 * 6 = 42` \n",
    "4. Division  \n",
    "   - `20 / 4 = 5`"
   ]
  },
  {
   "cell_type": "code",
   "execution_count": 1,
   "id": "33d41876-610d-4d26-b56b-10634ae236cd",
   "metadata": {},
   "outputs": [
    {
     "data": {
      "text/plain": [
       "17"
      ]
     },
     "execution_count": 1,
     "metadata": {},
     "output_type": "execute_result"
    }
   ],
   "source": [
    "# This a simple arithmetic expression to mutiply then add integers\n",
    "(3*4)+5"
   ]
  },
  {
   "cell_type": "code",
   "execution_count": 7,
   "id": "0c4a2a01-b86d-486b-8e98-aded123dce5f",
   "metadata": {},
   "outputs": [
    {
     "name": "stdout",
     "output_type": "stream",
     "text": [
      "3.3333333333333335\n"
     ]
    }
   ],
   "source": [
    "# This will convert 200 minutes to hours by diving by 60\n",
    "minutes = 200\n",
    "hours = minutes / 60\n",
    "print(hours)\n"
   ]
  },
  {
   "cell_type": "markdown",
   "id": "a52f2ffd-287e-4ca1-8768-2d42cbc91bdd",
   "metadata": {},
   "source": [
    "## Author\n",
    "Hamza Zaman"
   ]
  },
  {
   "cell_type": "code",
   "execution_count": null,
   "id": "854a963e-fb42-429e-9900-e73a9a9e86c3",
   "metadata": {},
   "outputs": [],
   "source": []
  }
 ],
 "metadata": {
  "kernelspec": {
   "display_name": "Python 3 (ipykernel)",
   "language": "python",
   "name": "python3"
  },
  "language_info": {
   "codemirror_mode": {
    "name": "ipython",
    "version": 3
   },
   "file_extension": ".py",
   "mimetype": "text/x-python",
   "name": "python",
   "nbconvert_exporter": "python",
   "pygments_lexer": "ipython3",
   "version": "3.12.8"
  }
 },
 "nbformat": 4,
 "nbformat_minor": 5
}
